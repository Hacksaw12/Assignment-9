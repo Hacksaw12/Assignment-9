{
 "cells": [
  {
   "cell_type": "markdown",
   "id": "eefff8c1",
   "metadata": {},
   "source": [
    "# 1. To what does a relative path refer?\n",
    "Ans:> A relative path refers to a location that is relative to a current directory. Relative paths make use of two special symbols, a dot (.) ... The current directory is sometimes referred to as the root directory.\n"
   ]
  },
  {
   "cell_type": "markdown",
   "id": "d8e47fd9",
   "metadata": {},
   "source": [
    "# 2. What does an absolute path start with your operating system?\n",
    "Ans:> An absolute path refers to the complete details needed to locate a file or folder, starting from the root element and ending with the other subdirectories. Absolute paths are used in websites and operating systems for locating files and folders. An absolute path is also known as an absolute pathname or full path.\n"
   ]
  },
  {
   "cell_type": "markdown",
   "id": "5d289b4f",
   "metadata": {},
   "source": [
    "# 3. What do the functions os.getcwd() and os.chdir() do?\n",
    "Ans:> Check and Set Your Working Directory Using OS\n",
    "getcwd() : CWD stands for Current Working Directory. This function allows you to see what your current working directory is. chdir(\"path-to-dir\") : Short for CHange DIRectory, this function allows you to set the current working directory to a path of your choice.\n"
   ]
  },
  {
   "cell_type": "markdown",
   "id": "05bef5b2",
   "metadata": {},
   "source": [
    "# 4. What are the . and .. folders?\n",
    "Ans:> The . is the current directory, while .. signifies the parent directory.\n",
    "5. In C:\\bacon\\eggs\\spam.txt, which part is the dir name, and which part is the base name?\n",
    "Ans:> In C:\\bacon\\eggs\\spam. txt, which part is the dir name, and which part is the base name? C:\\bacon\\eggs is the dir name, while spam.\n"
   ]
  },
  {
   "cell_type": "markdown",
   "id": "e58e0aa6",
   "metadata": {},
   "source": [
    "# 6. What are the three “mode” arguments that can be passed to the open() function?\n",
    "Ans:> The access modes available for the open() function are as follows:\n",
    "•\tr: Opens the file in read-only mode. Starts reading from the beginning of the file and is the default mode for the open() function.\n",
    "•\trb: Opens the file as read-only in binary format and starts reading from the beginning of the file. While binary format can be used for different purposes, it is usually used when dealing with things like images, videos, etc.\n",
    "•\tr+: Opens a file for reading and writing, placing the pointer at the beginning of the file.\n",
    "•\tw: Opens in write-only mode. The pointer is placed at the beginning of the file and this will overwrite any existing file with the same name. It will create a new file if one with the same name doesn't exist.\n",
    "•\twb: Opens a write-only file in binary mode.\n",
    "•\tw+: Opens a file for writing and reading.\n",
    "•\twb+: Opens a file for writing and reading in binary mode.\n",
    "•\ta: Opens a file for appending new information to it. The pointer is placed at the end of the file. A new file is created if one with the same name doesn't exist.\n",
    "•\tab: Opens a file for appending in binary mode.\n",
    "•\ta+: Opens a file for both appending and reading.\n",
    "•\tab+: Opens a file for both appending and reading in binary mode.\n"
   ]
  },
  {
   "cell_type": "markdown",
   "id": "23f5ade4",
   "metadata": {},
   "source": [
    "# 7. What happens if an existing file is opened in write mode?\n",
    "Ans:> To open a file in write mode, “w” is specified. When mode “w” is specified, it creates an empty file for output operations. What if the file already exists? If a file with the same name already exists, its contents are discarded and the file is treated as a new empty file.\n"
   ]
  },
  {
   "cell_type": "markdown",
   "id": "95d81b3e",
   "metadata": {},
   "source": [
    "# 8. How do you tell the difference between read() and readlines()?\n",
    "Ans:> read() reads all of the file's contents into a string, readline reads just a single line from the file. – C.Nivs. ...\n",
    "docs.python.org/3/library/io.html#io.IOBase. – CristiFati. ...\n",
    "What was unclear in the documentation and your research? ...\n",
    "oh i see now \n"
   ]
  },
  {
   "cell_type": "markdown",
   "id": "2abcac44",
   "metadata": {},
   "source": [
    "# 9. What data structure does a shelf value resemble?\n",
    "Ans: What data structure does a shelf value resemble? A shelf value resembles a dictionary value; it has keys and values, along with keys() and values() methods that work similarly to the dictionary methods of the same names.\n"
   ]
  },
  {
   "cell_type": "code",
   "execution_count": null,
   "id": "c46d1df4",
   "metadata": {},
   "outputs": [],
   "source": []
  },
  {
   "cell_type": "code",
   "execution_count": null,
   "id": "26ab5139",
   "metadata": {},
   "outputs": [],
   "source": []
  },
  {
   "cell_type": "code",
   "execution_count": null,
   "id": "403118ba",
   "metadata": {},
   "outputs": [],
   "source": []
  }
 ],
 "metadata": {
  "kernelspec": {
   "display_name": "Python 3",
   "language": "python",
   "name": "python3"
  },
  "language_info": {
   "codemirror_mode": {
    "name": "ipython",
    "version": 3
   },
   "file_extension": ".py",
   "mimetype": "text/x-python",
   "name": "python",
   "nbconvert_exporter": "python",
   "pygments_lexer": "ipython3",
   "version": "3.8.8"
  }
 },
 "nbformat": 4,
 "nbformat_minor": 5
}
